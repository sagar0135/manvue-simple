{
  "cells": [
    {
      "cell_type": "markdown",
      "metadata": {},
      "source": [
        "# MANVUE Image Setup for Google Colab\n",
        "\n",
        "This notebook demonstrates how to convert external images to MongoDB GridFS using MANVUE's API.\n",
        "\n",
        "## Prerequisites\n",
        "1. Your MANVUE backend server must be running\n",
        "2. MongoDB must be accessible from your Colab environment\n",
        "3. Upload the `colab_image_setup.py` script to your Colab environment\n"
      ]
    },
    {
      "cell_type": "code",
      "execution_count": null,
      "metadata": {},
      "outputs": [],
      "source": [
        "# Step 1: Upload the colab_image_setup.py script to your Colab environment\n",
        "# You can do this by:\n",
        "# 1. Using the file upload button in Colab\n",
        "# 2. Or cloning from your repository\n",
        "# 3. Or copying the script content directly\n",
        "\n",
        "print(\"📁 Please upload colab_image_setup.py to your Colab environment\")\n"
      ]
    },
    {
      "cell_type": "code",
      "execution_count": null,
      "metadata": {},
      "outputs": [],
      "source": [
        "# Step 2: Import the setup functions\n",
        "from colab_image_setup import run_colab_setup, convert_all_product_images_colab\n",
        "import asyncio\n",
        "\n",
        "print(\"✅ Imported MANVUE Colab setup functions\")\n"
      ]
    },
    {
      "cell_type": "code",
      "execution_count": null,
      "metadata": {},
      "outputs": [],
      "source": [
        "# Step 3: Configure your API URL\n",
        "# Replace with your actual MANVUE API URL\n",
        "API_URL = \"http://localhost:5001\"  # Local development\n",
        "# API_URL = \"https://your-deployed-api.com\"  # Deployed API\n",
        "\n",
        "print(f\"🔗 Using API URL: {API_URL}\")\n"
      ]
    },
    {
      "cell_type": "code",
      "execution_count": null,
      "metadata": {},
      "outputs": [],
      "source": [
        "# Step 4: Run the complete setup\n",
        "# This will download images and store them in your MongoDB GridFS\n",
        "\n",
        "converted_products = run_colab_setup(API_URL)\n",
        "\n",
        "if converted_products:\n",
        "    print(f\"\\n🎉 Successfully converted {len(converted_products)} products!\")\n",
        "    print(\"Your images are now stored in MongoDB GridFS.\")\n",
        "else:\n",
        "    print(\"\\n❌ Setup failed. Please check your API connection.\")\n"
      ]
    }
  ],
  "metadata": {
    "language_info": {
      "name": "python"
    }
  },
  "nbformat": 4,
  "nbformat_minor": 2
}
